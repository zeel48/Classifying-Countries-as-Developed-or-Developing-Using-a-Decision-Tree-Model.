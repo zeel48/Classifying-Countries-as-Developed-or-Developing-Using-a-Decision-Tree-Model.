{
  "nbformat": 4,
  "nbformat_minor": 0,
  "metadata": {
    "colab": {
      "provenance": []
    },
    "kernelspec": {
      "name": "python3",
      "display_name": "Python 3"
    },
    "language_info": {
      "name": "python"
    }
  },
  "cells": [
    {
      "cell_type": "code",
      "source": [
        "pip install pyspark"
      ],
      "metadata": {
        "id": "gx6MKkvjAlmd",
        "colab": {
          "base_uri": "https://localhost:8080/"
        },
        "outputId": "c3e373e3-c785-4afa-e17e-9046236af499"
      },
      "execution_count": 41,
      "outputs": [
        {
          "output_type": "stream",
          "name": "stdout",
          "text": [
            "Requirement already satisfied: pyspark in /usr/local/lib/python3.10/dist-packages (3.5.3)\n",
            "Requirement already satisfied: py4j==0.10.9.7 in /usr/local/lib/python3.10/dist-packages (from pyspark) (0.10.9.7)\n"
          ]
        }
      ]
    },
    {
      "cell_type": "code",
      "source": [
        "from pyspark.sql import SparkSession\n",
        "from pyspark.ml.feature import VectorAssembler\n",
        "from pyspark.ml.regression import LinearRegression\n",
        "\n",
        "# Create a SparkSession\n",
        "spark = SparkSession.builder.appName(\"GDPPrediction\").getOrCreate()\n"
      ],
      "metadata": {
        "id": "ixZn312zAxxy"
      },
      "execution_count": 42,
      "outputs": []
    },
    {
      "cell_type": "code",
      "source": [
        " #Load the data\n",
        "data = spark.read.csv(\"/content/world-data-2023.csv\", header=True, inferSchema=True,multiLine=True)\n",
        "data.show()"
      ],
      "metadata": {
        "id": "fiazrzqeAx2X",
        "colab": {
          "base_uri": "https://localhost:8080/"
        },
        "collapsed": true,
        "outputId": "09e8d473-b461-43f6-8413-f0adde8c0033"
      },
      "execution_count": 43,
      "outputs": [
        {
          "output_type": "stream",
          "name": "stdout",
          "text": [
            "+-------------------+----------------+------------+---------------------+--------------+-----------------+----------+------------+--------------------+-------------+------+--------------+-------------+--------------+-----------------+--------------+-------------------+--------------------------------------+---------------------------------------+----------------+--------------------+---------------+------------------------+------------+--------------------+--------------------------------+-----------------------+-----------+-----------------------------------------+---------------+--------------+-----------------+----------------+----------+------------+\n",
            "|            Country|Density\\n(P/Km2)|Abbreviation|Agricultural Land( %)|Land Area(Km2)|Armed Forces size|Birth Rate|Calling Code|  Capital/Major City|Co2-Emissions|   CPI|CPI Change (%)|Currency-Code|Fertility Rate|Forested Area (%)|Gasoline Price|                GDP|Gross primary education enrollment (%)|Gross tertiary education enrollment (%)|Infant mortality|        Largest city|Life expectancy|Maternal mortality ratio|Minimum wage|   Official language|Out of pocket health expenditure|Physicians per thousand| Population|Population: Labor force participation (%)|Tax revenue (%)|Total tax rate|Unemployment rate|Urban_population|  Latitude| Longitude\\r|\n",
            "+-------------------+----------------+------------+---------------------+--------------+-----------------+----------+------------+--------------------+-------------+------+--------------+-------------+--------------+-----------------+--------------+-------------------+--------------------------------------+---------------------------------------+----------------+--------------------+---------------+------------------------+------------+--------------------+--------------------------------+-----------------------+-----------+-----------------------------------------+---------------+--------------+-----------------+----------------+----------+------------+\n",
            "|        Afghanistan|              60|          AF|               58.10%|       652,230|          323,000|     32.49|          93|               Kabul|        8,672| 149.9|         2.30%|          AFN|          4.47|            2.10%|        $0.70 |   $19,101,353,833 |                               104.00%|                                  9.70%|            47.9|               Kabul|           64.5|                     638|      $0.43 |              Pashto|                          78.40%|                   0.28| 38,041,754|                                   48.90%|          9.30%|        71.40%|           11.12%|       9,797,273|  33.93911| 67.709953\\r|\n",
            "|            Albania|             105|          AL|               43.10%|        28,748|            9,000|     11.78|         355|              Tirana|        4,536|119.05|         1.40%|          ALL|          1.62|           28.10%|        $1.36 |   $15,278,077,447 |                               107.00%|                                 55.00%|             7.8|              Tirana|           78.5|                      15|      $1.12 |            Albanian|                          56.90%|                    1.2|  2,854,191|                                   55.70%|         18.60%|        36.60%|           12.33%|       1,747,593| 41.153332| 20.168331\\r|\n",
            "|            Algeria|              18|          DZ|               17.40%|     2,381,741|          317,000|     24.28|         213|             Algiers|      150,006|151.36|         2.00%|          DZD|          3.02|            0.80%|        $0.28 |  $169,988,236,398 |                               109.90%|                                 51.40%|            20.1|             Algiers|           76.7|                     112|      $0.95 |              Arabic|                          28.10%|                   1.72| 43,053,054|                                   41.20%|         37.20%|        66.10%|           11.70%|      31,510,100| 28.033886|  1.659626\\r|\n",
            "|            Andorra|             164|          AD|               40.00%|           468|             NULL|       7.2|         376|    Andorra la Vella|          469|  NULL|          NULL|          EUR|          1.27|           34.00%|        $1.51 |    $3,154,057,987 |                               106.40%|                                   NULL|             2.7|    Andorra la Vella|           NULL|                    NULL|      $6.63 |             Catalan|                          36.40%|                   3.33|     77,142|                                     NULL|           NULL|          NULL|             NULL|          67,873| 42.506285|  1.521801\\r|\n",
            "|             Angola|              26|          AO|               47.50%|     1,246,700|          117,000|     40.73|         244|              Luanda|       34,693|261.73|        17.10%|          AOA|          5.52|           46.30%|        $0.97 |   $94,635,415,870 |                               113.50%|                                  9.30%|            51.6|              Luanda|           60.8|                     241|      $0.71 |          Portuguese|                          33.40%|                   0.21| 31,825,295|                                   77.50%|          9.20%|        49.10%|            6.89%|      21,061,025|-11.202692| 17.873887\\r|\n",
            "|Antigua and Barbuda|             223|          AG|               20.50%|           443|                0|     15.33|           1|St. John's, Saint...|          557|113.81|         1.20%|          XCD|          1.99|           22.30%|        $0.99 |    $1,727,759,259 |                               105.00%|                                 24.80%|             5.0|St. John's, Saint...|           76.9|                      42|      $3.04 |             English|                          24.30%|                   2.76|     97,118|                                     NULL|         16.50%|        43.00%|             NULL|          23,800| 17.060816|-61.796428\\r|\n",
            "|          Argentina|              17|          AR|               54.30%|     2,780,400|          105,000|     17.02|          54|        Buenos Aires|      201,348|232.75|        53.50%|          ARS|          2.26|            9.80%|        $1.10 |  $449,663,446,954 |                               109.70%|                                 90.00%|             8.8|        Buenos Aires|           76.5|                      39|      $3.35 |             Spanish|                          17.60%|                   3.96| 44,938,712|                                   61.30%|         10.10%|       106.30%|            9.79%|      41,339,571|-38.416097|-63.616672\\r|\n",
            "|            Armenia|             104|          AM|               58.90%|        29,743|           49,000|     13.99|         374|             Yerevan|        5,156|129.18|         1.40%|          AMD|          1.76|           11.70%|        $0.77 |   $13,672,802,158 |                                92.70%|                                 54.60%|            11.0|             Yerevan|           74.9|                      26|      $0.66 |            Armenian|                          81.60%|                    4.4|  2,957,731|                                   55.60%|         20.90%|        22.60%|           16.99%|       1,869,848| 40.069099| 45.038189\\r|\n",
            "|          Australia|               3|          AU|               48.20%|     7,741,220|           58,000|      12.6|          61|            Canberra|      375,908| 119.8|         1.60%|          AUD|          1.74|           16.30%|        $0.93 |$1,392,680,589,329 |                               100.30%|                                113.10%|             3.1|              Sydney|           82.7|                       6|     $13.59 |                None|                          19.60%|                   3.68| 25,766,605|                                   65.50%|         23.00%|        47.40%|            5.27%|      21,844,756|-25.274398|133.775136\\r|\n",
            "|            Austria|             109|          AT|               32.40%|        83,871|           21,000|       9.7|          43|              Vienna|       61,448|118.06|         1.50%|          EUR|          1.47|           46.90%|        $1.20 |  $446,314,739,528 |                               103.10%|                                 85.10%|             2.9|              Vienna|           81.6|                       5|        NULL|              German|                          17.90%|                   5.17|  8,877,067|                                   60.70%|         25.40%|        51.40%|            4.67%|       5,194,416| 47.516231| 14.550072\\r|\n",
            "|         Azerbaijan|             123|          AZ|               57.70%|        86,600|           82,000|      14.0|         994|                Baku|       37,620|156.32|         2.60%|          AZN|          1.73|           14.10%|        $0.56 |   $39,207,000,000 |                                99.70%|                                 27.70%|            19.2|                Baku|           72.9|                      26|      $0.47 |Azerbaijani language|                          78.60%|                   3.45| 10,023,318|                                   66.50%|         13.00%|        40.70%|            5.51%|       5,616,165| 40.143105| 47.576927\\r|\n",
            "|        The Bahamas|              39|          BS|                1.40%|        13,880|            1,000|     13.97|           1|     Nassau, Bahamas|        1,786|116.22|         2.50%|         NULL|          1.75|           51.40%|        $0.92 |   $12,827,000,000 |                                81.40%|                                 15.10%|             8.3|     Nassau, Bahamas|           73.8|                      70|      $5.25 |             English|                          27.80%|                   1.94|    389,482|                                   74.60%|         14.80%|        33.80%|           10.36%|         323,784|  25.03428| -77.39628\\r|\n",
            "|            Bahrain|           2,239|          BH|               11.10%|           765|           19,000|     13.99|         973|              Manama|       31,694|117.59|         2.10%|          BHD|          1.99|            0.80%|        $0.43 |   $38,574,069,149 |                                99.40%|                                 50.50%|             6.1|               Riffa|           77.2|                      14|        NULL|              Arabic|                          25.10%|                   0.93|  1,501,635|                                   73.40%|          4.20%|        13.80%|            0.71%|       1,467,109|   26.0667|   50.5577\\r|\n",
            "|         Bangladesh|           1,265|          BD|               70.60%|       148,460|          221,000|     18.18|         880|               Dhaka|       84,246|179.68|         5.60%|          BDT|          2.04|           11.00%|        $1.12 |  $302,571,254,131 |                               116.50%|                                 20.60%|            25.1|               Dhaka|           72.3|                     173|      $0.51 |             Bengali|                          71.80%|                   0.58|167,310,838|                                   59.00%|          8.80%|        33.40%|            4.19%|      60,987,417| 23.684994| 90.356331\\r|\n",
            "|           Barbados|             668|          BB|               23.30%|           430|            1,000|     10.65|           1|          Bridgetown|        1,276|134.09|         4.10%|          BBD|          1.62|           14.70%|        $1.81 |    $5,209,000,000 |                                99.40%|                                 65.40%|            11.3|          Bridgetown|           79.1|                      27|      $3.13 |             English|                          45.20%|                   2.48|    287,025|                                   65.20%|         27.50%|        35.60%|           10.33%|          89,431| 13.193887|-59.543198\\r|\n",
            "|            Belarus|              47|          BY|               42.00%|       207,600|          155,000|       9.9|         375|               Minsk|       58,280|  NULL|         5.60%|          BYN|          1.45|           42.60%|        $0.60 |   $63,080,457,023 |                               100.50%|                                 87.40%|             2.6|               Minsk|           74.2|                       2|      $1.49 |             Russian|                          34.50%|                   5.19|  9,466,856|                                   64.10%|         14.70%|        53.30%|            4.59%|       7,482,982| 53.709807| 27.953389\\r|\n",
            "|            Belgium|             383|          BE|               44.60%|        30,528|           32,000|      10.3|          32|    City of Brussels|       96,889|117.11|         1.40%|          EUR|          1.62|           22.60%|        $1.43 |  $529,606,710,418 |                               103.90%|                                 79.70%|             2.9|            Brussels|           81.6|                       5|     $10.31 |              French|                          17.60%|                   3.07| 11,484,055|                                   53.60%|         24.00%|        55.40%|            5.59%|      11,259,082| 50.503887|  4.469936\\r|\n",
            "|             Belize|              17|          BZ|                7.00%|        22,966|            2,000|     20.79|         501|            Belmopan|          568|105.68|        -0.90%|          BZD|          2.31|           59.70%|        $1.13 |    $1,879,613,600 |                               111.70%|                                 24.70%|            11.2|         Belize City|           74.5|                      36|      $1.65 |             English|                          22.70%|                   1.12|    390,353|                                   65.10%|         26.30%|        31.10%|            6.41%|         179,039| 17.189877| -88.49765\\r|\n",
            "|              Benin|             108|          BJ|               33.30%|       112,622|           12,000|     36.22|         229|          Porto-Novo|        6,476|110.71|        -0.90%|          XOF|          4.84|           37.80%|        $0.72 |   $14,390,709,095 |                               122.00%|                                 12.30%|            60.5|             Cotonou|           61.5|                     397|      $0.39 |              French|                          40.50%|                   0.08| 11,801,151|                                   70.90%|         10.80%|        48.90%|            2.23%|       5,648,149|   9.30769|  2.315834\\r|\n",
            "|             Bhutan|              20|          BT|               13.60%|        38,394|            6,000|     17.26|         975|             Thimphu|        1,261|167.18|         2.70%|         NULL|          1.98|           72.50%|        $0.98 |    $2,446,674,101 |                               100.10%|                                 15.60%|            24.8|             Thimphu|           71.5|                     183|      $0.32 |            Dzongkha|                          19.80%|                   0.42|    727,145|                                   66.70%|         16.00%|        35.30%|            2.34%|         317,538| 27.514162| 90.433601\\r|\n",
            "+-------------------+----------------+------------+---------------------+--------------+-----------------+----------+------------+--------------------+-------------+------+--------------+-------------+--------------+-----------------+--------------+-------------------+--------------------------------------+---------------------------------------+----------------+--------------------+---------------+------------------------+------------+--------------------+--------------------------------+-----------------------+-----------+-----------------------------------------+---------------+--------------+-----------------+----------------+----------+------------+\n",
            "only showing top 20 rows\n",
            "\n"
          ]
        }
      ]
    },
    {
      "cell_type": "code",
      "source": [
        "print(data.count())\n",
        "data.printSchema()"
      ],
      "metadata": {
        "id": "E_r8Zfe6JQRq",
        "colab": {
          "base_uri": "https://localhost:8080/"
        },
        "collapsed": true,
        "outputId": "6e1f3634-ce2a-4b7d-daaa-e8c6b77d7e1e"
      },
      "execution_count": 44,
      "outputs": [
        {
          "output_type": "stream",
          "name": "stdout",
          "text": [
            "195\n",
            "root\n",
            " |-- Country: string (nullable = true)\n",
            " |-- Density\\n(P/Km2): string (nullable = true)\n",
            " |-- Abbreviation: string (nullable = true)\n",
            " |-- Agricultural Land( %): string (nullable = true)\n",
            " |-- Land Area(Km2): string (nullable = true)\n",
            " |-- Armed Forces size: string (nullable = true)\n",
            " |-- Birth Rate: double (nullable = true)\n",
            " |-- Calling Code: integer (nullable = true)\n",
            " |-- Capital/Major City: string (nullable = true)\n",
            " |-- Co2-Emissions: string (nullable = true)\n",
            " |-- CPI: string (nullable = true)\n",
            " |-- CPI Change (%): string (nullable = true)\n",
            " |-- Currency-Code: string (nullable = true)\n",
            " |-- Fertility Rate: double (nullable = true)\n",
            " |-- Forested Area (%): string (nullable = true)\n",
            " |-- Gasoline Price: string (nullable = true)\n",
            " |-- GDP: string (nullable = true)\n",
            " |-- Gross primary education enrollment (%): string (nullable = true)\n",
            " |-- Gross tertiary education enrollment (%): string (nullable = true)\n",
            " |-- Infant mortality: double (nullable = true)\n",
            " |-- Largest city: string (nullable = true)\n",
            " |-- Life expectancy: double (nullable = true)\n",
            " |-- Maternal mortality ratio: integer (nullable = true)\n",
            " |-- Minimum wage: string (nullable = true)\n",
            " |-- Official language: string (nullable = true)\n",
            " |-- Out of pocket health expenditure: string (nullable = true)\n",
            " |-- Physicians per thousand: double (nullable = true)\n",
            " |-- Population: string (nullable = true)\n",
            " |-- Population: Labor force participation (%): string (nullable = true)\n",
            " |-- Tax revenue (%): string (nullable = true)\n",
            " |-- Total tax rate: string (nullable = true)\n",
            " |-- Unemployment rate: string (nullable = true)\n",
            " |-- Urban_population: string (nullable = true)\n",
            " |-- Latitude: double (nullable = true)\n",
            " |-- Longitude\\r: string (nullable = true)\n",
            "\n"
          ]
        }
      ]
    },
    {
      "cell_type": "code",
      "source": [
        "from pyspark.sql.functions import col\n",
        "data.select([col(c).isNull().alias(c) for c in data.columns]).show(25)"
      ],
      "metadata": {
        "id": "tslpvgJ8KFTi",
        "colab": {
          "base_uri": "https://localhost:8080/"
        },
        "outputId": "c1ed1781-cdca-418b-905e-0978cc68bc6e"
      },
      "execution_count": 45,
      "outputs": [
        {
          "output_type": "stream",
          "name": "stdout",
          "text": [
            "+-------+----------------+------------+---------------------+--------------+-----------------+----------+------------+------------------+-------------+-----+--------------+-------------+--------------+-----------------+--------------+-----+--------------------------------------+---------------------------------------+----------------+------------+---------------+------------------------+------------+-----------------+--------------------------------+-----------------------+----------+-----------------------------------------+---------------+--------------+-----------------+----------------+--------+-----------+\n",
            "|Country|Density\\n(P/Km2)|Abbreviation|Agricultural Land( %)|Land Area(Km2)|Armed Forces size|Birth Rate|Calling Code|Capital/Major City|Co2-Emissions|  CPI|CPI Change (%)|Currency-Code|Fertility Rate|Forested Area (%)|Gasoline Price|  GDP|Gross primary education enrollment (%)|Gross tertiary education enrollment (%)|Infant mortality|Largest city|Life expectancy|Maternal mortality ratio|Minimum wage|Official language|Out of pocket health expenditure|Physicians per thousand|Population|Population: Labor force participation (%)|Tax revenue (%)|Total tax rate|Unemployment rate|Urban_population|Latitude|Longitude\\r|\n",
            "+-------+----------------+------------+---------------------+--------------+-----------------+----------+------------+------------------+-------------+-----+--------------+-------------+--------------+-----------------+--------------+-----+--------------------------------------+---------------------------------------+----------------+------------+---------------+------------------------+------------+-----------------+--------------------------------+-----------------------+----------+-----------------------------------------+---------------+--------------+-----------------+----------------+--------+-----------+\n",
            "|  false|           false|       false|                false|         false|            false|     false|       false|             false|        false|false|         false|        false|         false|            false|         false|false|                                 false|                                  false|           false|       false|          false|                   false|       false|            false|                           false|                  false|     false|                                    false|          false|         false|            false|           false|   false|      false|\n",
            "|  false|           false|       false|                false|         false|            false|     false|       false|             false|        false|false|         false|        false|         false|            false|         false|false|                                 false|                                  false|           false|       false|          false|                   false|       false|            false|                           false|                  false|     false|                                    false|          false|         false|            false|           false|   false|      false|\n",
            "|  false|           false|       false|                false|         false|            false|     false|       false|             false|        false|false|         false|        false|         false|            false|         false|false|                                 false|                                  false|           false|       false|          false|                   false|       false|            false|                           false|                  false|     false|                                    false|          false|         false|            false|           false|   false|      false|\n",
            "|  false|           false|       false|                false|         false|             true|     false|       false|             false|        false| true|          true|        false|         false|            false|         false|false|                                 false|                                   true|           false|       false|           true|                    true|       false|            false|                           false|                  false|     false|                                     true|           true|          true|             true|           false|   false|      false|\n",
            "|  false|           false|       false|                false|         false|            false|     false|       false|             false|        false|false|         false|        false|         false|            false|         false|false|                                 false|                                  false|           false|       false|          false|                   false|       false|            false|                           false|                  false|     false|                                    false|          false|         false|            false|           false|   false|      false|\n",
            "|  false|           false|       false|                false|         false|            false|     false|       false|             false|        false|false|         false|        false|         false|            false|         false|false|                                 false|                                  false|           false|       false|          false|                   false|       false|            false|                           false|                  false|     false|                                     true|          false|         false|             true|           false|   false|      false|\n",
            "|  false|           false|       false|                false|         false|            false|     false|       false|             false|        false|false|         false|        false|         false|            false|         false|false|                                 false|                                  false|           false|       false|          false|                   false|       false|            false|                           false|                  false|     false|                                    false|          false|         false|            false|           false|   false|      false|\n",
            "|  false|           false|       false|                false|         false|            false|     false|       false|             false|        false|false|         false|        false|         false|            false|         false|false|                                 false|                                  false|           false|       false|          false|                   false|       false|            false|                           false|                  false|     false|                                    false|          false|         false|            false|           false|   false|      false|\n",
            "|  false|           false|       false|                false|         false|            false|     false|       false|             false|        false|false|         false|        false|         false|            false|         false|false|                                 false|                                  false|           false|       false|          false|                   false|       false|            false|                           false|                  false|     false|                                    false|          false|         false|            false|           false|   false|      false|\n",
            "|  false|           false|       false|                false|         false|            false|     false|       false|             false|        false|false|         false|        false|         false|            false|         false|false|                                 false|                                  false|           false|       false|          false|                   false|        true|            false|                           false|                  false|     false|                                    false|          false|         false|            false|           false|   false|      false|\n",
            "|  false|           false|       false|                false|         false|            false|     false|       false|             false|        false|false|         false|        false|         false|            false|         false|false|                                 false|                                  false|           false|       false|          false|                   false|       false|            false|                           false|                  false|     false|                                    false|          false|         false|            false|           false|   false|      false|\n",
            "|  false|           false|       false|                false|         false|            false|     false|       false|             false|        false|false|         false|         true|         false|            false|         false|false|                                 false|                                  false|           false|       false|          false|                   false|       false|            false|                           false|                  false|     false|                                    false|          false|         false|            false|           false|   false|      false|\n",
            "|  false|           false|       false|                false|         false|            false|     false|       false|             false|        false|false|         false|        false|         false|            false|         false|false|                                 false|                                  false|           false|       false|          false|                   false|        true|            false|                           false|                  false|     false|                                    false|          false|         false|            false|           false|   false|      false|\n",
            "|  false|           false|       false|                false|         false|            false|     false|       false|             false|        false|false|         false|        false|         false|            false|         false|false|                                 false|                                  false|           false|       false|          false|                   false|       false|            false|                           false|                  false|     false|                                    false|          false|         false|            false|           false|   false|      false|\n",
            "|  false|           false|       false|                false|         false|            false|     false|       false|             false|        false|false|         false|        false|         false|            false|         false|false|                                 false|                                  false|           false|       false|          false|                   false|       false|            false|                           false|                  false|     false|                                    false|          false|         false|            false|           false|   false|      false|\n",
            "|  false|           false|       false|                false|         false|            false|     false|       false|             false|        false| true|         false|        false|         false|            false|         false|false|                                 false|                                  false|           false|       false|          false|                   false|       false|            false|                           false|                  false|     false|                                    false|          false|         false|            false|           false|   false|      false|\n",
            "|  false|           false|       false|                false|         false|            false|     false|       false|             false|        false|false|         false|        false|         false|            false|         false|false|                                 false|                                  false|           false|       false|          false|                   false|       false|            false|                           false|                  false|     false|                                    false|          false|         false|            false|           false|   false|      false|\n",
            "|  false|           false|       false|                false|         false|            false|     false|       false|             false|        false|false|         false|        false|         false|            false|         false|false|                                 false|                                  false|           false|       false|          false|                   false|       false|            false|                           false|                  false|     false|                                    false|          false|         false|            false|           false|   false|      false|\n",
            "|  false|           false|       false|                false|         false|            false|     false|       false|             false|        false|false|         false|        false|         false|            false|         false|false|                                 false|                                  false|           false|       false|          false|                   false|       false|            false|                           false|                  false|     false|                                    false|          false|         false|            false|           false|   false|      false|\n",
            "|  false|           false|       false|                false|         false|            false|     false|       false|             false|        false|false|         false|         true|         false|            false|         false|false|                                 false|                                  false|           false|       false|          false|                   false|       false|            false|                           false|                  false|     false|                                    false|          false|         false|            false|           false|   false|      false|\n",
            "|  false|           false|       false|                false|         false|            false|     false|       false|             false|        false|false|         false|        false|         false|            false|         false|false|                                 false|                                   true|           false|       false|          false|                   false|       false|            false|                           false|                  false|     false|                                    false|          false|         false|            false|           false|   false|      false|\n",
            "|  false|           false|       false|                false|         false|            false|     false|       false|             false|        false|false|         false|        false|         false|            false|         false|false|                                  true|                                  false|           false|       false|          false|                   false|       false|            false|                           false|                  false|     false|                                    false|          false|         false|            false|           false|   false|      false|\n",
            "|  false|           false|       false|                false|         false|            false|     false|       false|             false|        false|false|         false|        false|         false|            false|         false|false|                                 false|                                  false|           false|       false|          false|                   false|       false|            false|                           false|                  false|     false|                                    false|          false|         false|            false|           false|   false|      false|\n",
            "|  false|           false|       false|                false|         false|            false|     false|       false|             false|        false|false|         false|        false|         false|            false|         false|false|                                 false|                                  false|           false|       false|          false|                   false|       false|            false|                           false|                  false|     false|                                    false|          false|         false|            false|           false|   false|      false|\n",
            "|  false|           false|       false|                false|         false|            false|     false|       false|             false|        false|false|         false|        false|         false|            false|         false|false|                                 false|                                  false|           false|        true|          false|                   false|        true|            false|                           false|                  false|     false|                                    false|           true|         false|            false|           false|   false|      false|\n",
            "+-------+----------------+------------+---------------------+--------------+-----------------+----------+------------+------------------+-------------+-----+--------------+-------------+--------------+-----------------+--------------+-----+--------------------------------------+---------------------------------------+----------------+------------+---------------+------------------------+------------+-----------------+--------------------------------+-----------------------+----------+-----------------------------------------+---------------+--------------+-----------------+----------------+--------+-----------+\n",
            "only showing top 25 rows\n",
            "\n"
          ]
        }
      ]
    },
    {
      "cell_type": "code",
      "source": [
        "import pandas as pd\n",
        "from pyspark.sql import SparkSession\n",
        "from pyspark.sql.functions import regexp_replace, col\n",
        "\n",
        "# Create a SparkSession\n",
        "spark = SparkSession.builder.appName(\"Eda Of Global Country Dataset \").getOrCreate()\n",
        "\n",
        "# Read the CSV file using pandas\n",
        "data = pd.read_csv('/content/world-data-2023.csv')\n",
        "\n",
        "# Convert the pandas DataFrame to a PySpark DataFrame\n",
        "df = spark.createDataFrame(data)\n",
        "\n",
        "\n",
        "df = df.dropna(how='any')  # Use 'all' to drop only rows where all values are null\n",
        "\n",
        "\n",
        "# Function to clean columns by removing special characters like commas,\n",
        "# dollar signs, spaces, and percentage signs\n",
        "def clean_column(column):\n",
        "    return regexp_replace(\n",
        "        regexp_replace(regexp_replace(column, ',', ''), '\\\\$', ''), '%', ''\n",
        "    ).cast(\"float\")\n",
        "\n",
        "\n",
        "# Apply the cleaning function to the relevant columns\n",
        "columns_to_clean = [\n",
        "    'Population',\n",
        "    'GDP',\n",
        "    'Population: Labor force participation (%)',\n",
        "    'Urban_population',\n",
        "    'Unemployment rate',\n",
        "    'Tax revenue (%)',\n",
        "    'Gross primary education enrollment (%)',\n",
        "    'Gross tertiary education enrollment (%)',\n",
        "    'Agricultural Land( %)',\n",
        "    'Fertility Rate',\n",
        "    'Physicians per thousand',\n",
        "    'Life expectancy',\n",
        "    'Out of pocket health expenditure',\n",
        "    'Total tax rate',\n",
        "    'Gasoline Price',\n",
        "    'CPI Change (%)',\n",
        "    'Forested Area (%)'\n",
        "\n",
        "]\n",
        "\n",
        "for col_name in columns_to_clean:\n",
        "    df = df.withColumn(col_name, clean_column(col(col_name)))\n",
        "\n",
        "# Convert the cleaned PySpark DataFrame back to a pandas DataFrame if needed\n",
        "pandas_df = df.toPandas()\n",
        "df.show() # To display the cleaned PySpark DataFrame"
      ],
      "metadata": {
        "id": "1XONfdoFtzRC",
        "colab": {
          "base_uri": "https://localhost:8080/"
        },
        "outputId": "390696be-c3c8-4977-a84f-a848c848198b"
      },
      "execution_count": 48,
      "outputs": [
        {
          "output_type": "stream",
          "name": "stdout",
          "text": [
            "+-------------------+----------------+------------+---------------------+--------------+-----------------+----------+------------+--------------------+-------------+------+--------------+-------------+--------------+-----------------+--------------+-------------+--------------------------------------+---------------------------------------+----------------+--------------------+---------------+------------------------+------------+--------------------+--------------------------------+-----------------------+------------+-----------------------------------------+---------------+--------------+-----------------+----------------+----------+----------+\n",
            "|            Country|Density\\n(P/Km2)|Abbreviation|Agricultural Land( %)|Land Area(Km2)|Armed Forces size|Birth Rate|Calling Code|  Capital/Major City|Co2-Emissions|   CPI|CPI Change (%)|Currency-Code|Fertility Rate|Forested Area (%)|Gasoline Price|          GDP|Gross primary education enrollment (%)|Gross tertiary education enrollment (%)|Infant mortality|        Largest city|Life expectancy|Maternal mortality ratio|Minimum wage|   Official language|Out of pocket health expenditure|Physicians per thousand|  Population|Population: Labor force participation (%)|Tax revenue (%)|Total tax rate|Unemployment rate|Urban_population|  Latitude| Longitude|\n",
            "+-------------------+----------------+------------+---------------------+--------------+-----------------+----------+------------+--------------------+-------------+------+--------------+-------------+--------------+-----------------+--------------+-------------+--------------------------------------+---------------------------------------+----------------+--------------------+---------------+------------------------+------------+--------------------+--------------------------------+-----------------------+------------+-----------------------------------------+---------------+--------------+-----------------+----------------+----------+----------+\n",
            "|        Afghanistan|              60|          AF|                 58.1|       652,230|          323,000|     32.49|        93.0|               Kabul|        8,672| 149.9|           2.3|          AFN|          4.47|              2.1|           0.7| 1.9101354E10|                                 104.0|                                    9.7|            47.9|               Kabul|           64.5|                   638.0|      $0.43 |              Pashto|                            78.4|                   0.28| 3.8041752E7|                                     48.9|            9.3|          71.4|            11.12|       9797273.0|  33.93911| 67.709953|\n",
            "|            Albania|             105|          AL|                 43.1|        28,748|            9,000|     11.78|       355.0|              Tirana|        4,536|119.05|           1.4|          ALL|          1.62|             28.1|          1.36| 1.5278078E10|                                 107.0|                                   55.0|             7.8|              Tirana|           78.5|                    15.0|      $1.12 |            Albanian|                            56.9|                    1.2|   2854191.0|                                     55.7|           18.6|          36.6|            12.33|       1747593.0| 41.153332| 20.168331|\n",
            "|            Algeria|              18|          DZ|                 17.4|     2,381,741|          317,000|     24.28|       213.0|             Algiers|      150,006|151.36|           2.0|          DZD|          3.02|              0.8|          0.28|1.69988243E11|                                 109.9|                                   51.4|            20.1|             Algiers|           76.7|                   112.0|      $0.95 |              Arabic|                            28.1|                   1.72| 4.3053056E7|                                     41.2|           37.2|          66.1|             11.7|       3.15101E7| 28.033886|  1.659626|\n",
            "|             Angola|              26|          AO|                 47.5|     1,246,700|          117,000|     40.73|       244.0|              Luanda|       34,693|261.73|          17.1|          AOA|          5.52|             46.3|          0.97| 9.4635418E10|                                 113.5|                                    9.3|            51.6|              Luanda|           60.8|                   241.0|      $0.71 |          Portuguese|                            33.4|                   0.21| 3.1825296E7|                                     77.5|            9.2|          49.1|             6.89|     2.1061024E7|-11.202692| 17.873887|\n",
            "|Antigua and Barbuda|             223|          AG|                 20.5|           443|                0|     15.33|         1.0|St. John's, Saint...|          557|113.81|           1.2|          XCD|          1.99|             22.3|          0.99| 1.72775923E9|                                 105.0|                                   24.8|             5.0|St. John's, Saint...|           76.9|                    42.0|      $3.04 |             English|                            24.3|                   2.76|     97118.0|                                      NaN|           16.5|          43.0|              NaN|         23800.0| 17.060816|-61.796428|\n",
            "|          Argentina|              17|          AR|                 54.3|     2,780,400|          105,000|     17.02|        54.0|        Buenos Aires|      201,348|232.75|          53.5|          ARS|          2.26|              9.8|           1.1|4.49663435E11|                                 109.7|                                   90.0|             8.8|        Buenos Aires|           76.5|                    39.0|      $3.35 |             Spanish|                            17.6|                   3.96| 4.4938712E7|                                     61.3|           10.1|         106.3|             9.79|     4.1339572E7|-38.416097|-63.616672|\n",
            "|            Armenia|             104|          AM|                 58.9|        29,743|           49,000|     13.99|       374.0|             Yerevan|        5,156|129.18|           1.4|          AMD|          1.76|             11.7|          0.77|1.36728023E10|                                  92.7|                                   54.6|            11.0|             Yerevan|           74.9|                    26.0|      $0.66 |            Armenian|                            81.6|                    4.4|   2957731.0|                                     55.6|           20.9|          22.6|            16.99|       1869848.0| 40.069099| 45.038189|\n",
            "|          Australia|               3|          AU|                 48.2|     7,741,220|           58,000|      12.6|        61.0|            Canberra|      375,908| 119.8|           1.6|          AUD|          1.74|             16.3|          0.93|1.39268063E12|                                 100.3|                                  113.1|             3.1|              Sydney|           82.7|                     6.0|     $13.59 |                 NaN|                            19.6|                   3.68| 2.5766604E7|                                     65.5|           23.0|          47.4|             5.27|     2.1844756E7|-25.274398|133.775136|\n",
            "|            Austria|             109|          AT|                 32.4|        83,871|           21,000|       9.7|        43.0|              Vienna|       61,448|118.06|           1.5|          EUR|          1.47|             46.9|           1.2|4.46314742E11|                                 103.1|                                   85.1|             2.9|              Vienna|           81.6|                     5.0|         NaN|              German|                            17.9|                   5.17|   8877067.0|                                     60.7|           25.4|          51.4|             4.67|       5194416.0| 47.516231| 14.550072|\n",
            "|         Azerbaijan|             123|          AZ|                 57.7|        86,600|           82,000|      14.0|       994.0|                Baku|       37,620|156.32|           2.6|          AZN|          1.73|             14.1|          0.56| 3.9206998E10|                                  99.7|                                   27.7|            19.2|                Baku|           72.9|                    26.0|      $0.47 |Azerbaijani language|                            78.6|                   3.45| 1.0023318E7|                                     66.5|           13.0|          40.7|             5.51|       5616165.0| 40.143105| 47.576927|\n",
            "|        The Bahamas|              39|          BS|                  1.4|        13,880|            1,000|     13.97|         1.0|     Nassau, Bahamas|        1,786|116.22|           2.5|          NaN|          1.75|             51.4|          0.92|1.28269998E10|                                  81.4|                                   15.1|             8.3|     Nassau, Bahamas|           73.8|                    70.0|      $5.25 |             English|                            27.8|                   1.94|    389482.0|                                     74.6|           14.8|          33.8|            10.36|        323784.0|  25.03428| -77.39628|\n",
            "|            Bahrain|           2,239|          BH|                 11.1|           765|           19,000|     13.99|       973.0|              Manama|       31,694|117.59|           2.1|          BHD|          1.99|              0.8|          0.43| 3.8574068E10|                                  99.4|                                   50.5|             6.1|               Riffa|           77.2|                    14.0|         NaN|              Arabic|                            25.1|                   0.93|   1501635.0|                                     73.4|            4.2|          13.8|             0.71|       1467109.0|   26.0667|   50.5577|\n",
            "|         Bangladesh|           1,265|          BD|                 70.6|       148,460|          221,000|     18.18|       880.0|               Dhaka|       84,246|179.68|           5.6|          BDT|          2.04|             11.0|          1.12|3.02571258E11|                                 116.5|                                   20.6|            25.1|               Dhaka|           72.3|                   173.0|      $0.51 |             Bengali|                            71.8|                   0.58|1.67310832E8|                                     59.0|            8.8|          33.4|             4.19|     6.0987416E7| 23.684994| 90.356331|\n",
            "|           Barbados|             668|          BB|                 23.3|           430|            1,000|     10.65|         1.0|          Bridgetown|        1,276|134.09|           4.1|          BBD|          1.62|             14.7|          1.81|  5.2089999E9|                                  99.4|                                   65.4|            11.3|          Bridgetown|           79.1|                    27.0|      $3.13 |             English|                            45.2|                   2.48|    287025.0|                                     65.2|           27.5|          35.6|            10.33|         89431.0| 13.193887|-59.543198|\n",
            "|            Belarus|              47|          BY|                 42.0|       207,600|          155,000|       9.9|       375.0|               Minsk|       58,280|   NaN|           5.6|          BYN|          1.45|             42.6|           0.6| 6.3080456E10|                                 100.5|                                   87.4|             2.6|               Minsk|           74.2|                     2.0|      $1.49 |             Russian|                            34.5|                   5.19|   9466856.0|                                     64.1|           14.7|          53.3|             4.59|       7482982.0| 53.709807| 27.953389|\n",
            "|            Belgium|             383|          BE|                 44.6|        30,528|           32,000|      10.3|        32.0|    City of Brussels|       96,889|117.11|           1.4|          EUR|          1.62|             22.6|          1.43|5.29606705E11|                                 103.9|                                   79.7|             2.9|            Brussels|           81.6|                     5.0|     $10.31 |              French|                            17.6|                   3.07| 1.1484055E7|                                     53.6|           24.0|          55.4|             5.59|     1.1259082E7| 50.503887|  4.469936|\n",
            "|             Belize|              17|          BZ|                  7.0|        22,966|            2,000|     20.79|       501.0|            Belmopan|          568|105.68|          -0.9|          BZD|          2.31|             59.7|          1.13| 1.87961357E9|                                 111.7|                                   24.7|            11.2|         Belize City|           74.5|                    36.0|      $1.65 |             English|                            22.7|                   1.12|    390353.0|                                     65.1|           26.3|          31.1|             6.41|        179039.0| 17.189877| -88.49765|\n",
            "|              Benin|             108|          BJ|                 33.3|       112,622|           12,000|     36.22|       229.0|          Porto-Novo|        6,476|110.71|          -0.9|          XOF|          4.84|             37.8|          0.72|1.43907092E10|                                 122.0|                                   12.3|            60.5|             Cotonou|           61.5|                   397.0|      $0.39 |              French|                            40.5|                   0.08| 1.1801151E7|                                     70.9|           10.8|          48.9|             2.23|       5648149.0|   9.30769|  2.315834|\n",
            "|             Bhutan|              20|          BT|                 13.6|        38,394|            6,000|     17.26|       975.0|             Thimphu|        1,261|167.18|           2.7|          NaN|          1.98|             72.5|          0.98| 2.44667418E9|                                 100.1|                                   15.6|            24.8|             Thimphu|           71.5|                   183.0|      $0.32 |            Dzongkha|                            19.8|                   0.42|    727145.0|                                     66.7|           16.0|          35.3|             2.34|        317538.0| 27.514162| 90.433601|\n",
            "|            Bolivia|              11|          BO|                 34.8|     1,098,581|           71,000|     21.75|       591.0|               Sucre|       21,606|148.32|           1.8|          BOB|          2.73|             50.3|          0.71| 4.0895324E10|                                  98.2|                                    NaN|            21.8|Santa Cruz de la ...|           71.2|                   155.0|      $1.36 |             Spanish|                            25.9|                   1.59|   1.15131E7|                                     71.8|           17.0|          83.7|              3.5|       8033035.0|-16.290154|-63.588653|\n",
            "+-------------------+----------------+------------+---------------------+--------------+-----------------+----------+------------+--------------------+-------------+------+--------------+-------------+--------------+-----------------+--------------+-------------+--------------------------------------+---------------------------------------+----------------+--------------------+---------------+------------------------+------------+--------------------+--------------------------------+-----------------------+------------+-----------------------------------------+---------------+--------------+-----------------+----------------+----------+----------+\n",
            "only showing top 20 rows\n",
            "\n"
          ]
        }
      ]
    },
    {
      "cell_type": "code",
      "source": [
        "pandas_df.columns"
      ],
      "metadata": {
        "colab": {
          "base_uri": "https://localhost:8080/"
        },
        "id": "flIzmeZ2JoKs",
        "outputId": "bc29be24-ff02-4160-8a1c-de374bc45e1e"
      },
      "execution_count": 49,
      "outputs": [
        {
          "output_type": "execute_result",
          "data": {
            "text/plain": [
              "Index(['Country', 'Density\\n(P/Km2)', 'Abbreviation', 'Agricultural Land( %)',\n",
              "       'Land Area(Km2)', 'Armed Forces size', 'Birth Rate', 'Calling Code',\n",
              "       'Capital/Major City', 'Co2-Emissions', 'CPI', 'CPI Change (%)',\n",
              "       'Currency-Code', 'Fertility Rate', 'Forested Area (%)',\n",
              "       'Gasoline Price', 'GDP', 'Gross primary education enrollment (%)',\n",
              "       'Gross tertiary education enrollment (%)', 'Infant mortality',\n",
              "       'Largest city', 'Life expectancy', 'Maternal mortality ratio',\n",
              "       'Minimum wage', 'Official language', 'Out of pocket health expenditure',\n",
              "       'Physicians per thousand', 'Population',\n",
              "       'Population: Labor force participation (%)', 'Tax revenue (%)',\n",
              "       'Total tax rate', 'Unemployment rate', 'Urban_population', 'Latitude',\n",
              "       'Longitude'],\n",
              "      dtype='object')"
            ]
          },
          "metadata": {},
          "execution_count": 49
        }
      ]
    },
    {
      "cell_type": "code",
      "source": [
        "pandas_df.shape"
      ],
      "metadata": {
        "colab": {
          "base_uri": "https://localhost:8080/"
        },
        "id": "1Nsuc3Etz7WE",
        "outputId": "335bce98-02f2-44e8-b95b-bf3a14882f81"
      },
      "execution_count": 50,
      "outputs": [
        {
          "output_type": "execute_result",
          "data": {
            "text/plain": [
              "(179, 35)"
            ]
          },
          "metadata": {},
          "execution_count": 50
        }
      ]
    },
    {
      "cell_type": "code",
      "source": [
        "import pandas as pd\n",
        "import numpy as np\n",
        "from sklearn.model_selection import train_test_split\n",
        "from sklearn.tree import DecisionTreeClassifier\n",
        "from sklearn.metrics import accuracy_score, classification_report\n",
        "from sklearn.preprocessing import LabelEncoder\n",
        "from pyspark.sql.functions import when\n",
        "\n",
        "# Create a Target Variable\n",
        "GDP_threshold = df.select('GDP').agg({'GDP': 'avg'}).collect()[0][0]\n",
        "\n",
        "data = df.withColumn('Target', when(df['GDP'] > GDP_threshold, 1).otherwise(0)) # Use df consistently for withColumn\n",
        "# Now 'Target' has binary values (1 for Developed, 0 for Developing)"
      ],
      "metadata": {
        "id": "1zamt21Ld8FE"
      },
      "execution_count": 51,
      "outputs": []
    },
    {
      "cell_type": "code",
      "source": [
        "# Convert to Pandas DataFrame for scikit-learn\n",
        "pandas_df = data.toPandas()\n",
        "\n",
        "# Prepare features and target variable\n",
        "X = pandas_df.drop(['Target', 'Country','GDP'], axis=1)\n",
        "y = pandas_df['Target']\n",
        "\n",
        "# Encode non-numeric columns\n",
        "label_encoder = LabelEncoder()\n",
        "for column in X.select_dtypes(exclude=['number']).columns:\n",
        "    X[column] = label_encoder.fit_transform(X[column])"
      ],
      "metadata": {
        "id": "aQyURwaifAiJ"
      },
      "execution_count": 52,
      "outputs": []
    },
    {
      "cell_type": "code",
      "source": [
        "import matplotlib.pyplot as plt\n",
        "import seaborn as sns\n",
        "\n",
        "#Visualize the distribution of the target variable\n",
        "sns.countplot(x=pandas_df['Target'])\n",
        "plt.title('Distribution of Developed vs. Developing Countries')\n",
        "plt.xlabel('Target (0 = Developing, 1 = Developed)')\n",
        "plt.ylabel('Count')\n",
        "plt.show()"
      ],
      "metadata": {
        "colab": {
          "base_uri": "https://localhost:8080/",
          "height": 472
        },
        "id": "Jir3_RxFno2u",
        "outputId": "ced80380-2252-4cf1-aae7-f7d3e8b6e1ef"
      },
      "execution_count": 53,
      "outputs": [
        {
          "output_type": "display_data",
          "data": {
            "text/plain": [
              "<Figure size 640x480 with 1 Axes>"
            ],
            "image/png": "[encoded data removed]"
          },
          "metadata": {}
        }
      ]
    },
    {
      "cell_type": "code",
      "source": [
        "# Split the data into train and test sets\n",
        "X_train, X_test, y_train, y_test = train_test_split(X, y, test_size=0.25, random_state=42)"
      ],
      "metadata": {
        "id": "63cwmEtKnq5w"
      },
      "execution_count": 54,
      "outputs": []
    },
    {
      "cell_type": "code",
      "source": [
        "X.shape"
      ],
      "metadata": {
        "colab": {
          "base_uri": "https://localhost:8080/"
        },
        "id": "Q2bi-5aHvj4r",
        "outputId": "d6e7087e-dfe2-40bb-d68c-f166bec0f98b"
      },
      "execution_count": 55,
      "outputs": [
        {
          "output_type": "execute_result",
          "data": {
            "text/plain": [
              "(179, 33)"
            ]
          },
          "metadata": {},
          "execution_count": 55
        }
      ]
    },
    {
      "cell_type": "code",
      "source": [
        "y.shape"
      ],
      "metadata": {
        "colab": {
          "base_uri": "https://localhost:8080/"
        },
        "id": "EyGxivHIvlS_",
        "outputId": "b4095b0b-ecbf-4c73-ceba-d2cfe3bf88eb"
      },
      "execution_count": 56,
      "outputs": [
        {
          "output_type": "execute_result",
          "data": {
            "text/plain": [
              "(179,)"
            ]
          },
          "metadata": {},
          "execution_count": 56
        }
      ]
    },
    {
      "cell_type": "code",
      "source": [
        "#Train the Decision Tree Classifier\n",
        "clf = DecisionTreeClassifier(random_state=42)\n",
        "clf.fit(X_train, y_train)"
      ],
      "metadata": {
        "colab": {
          "base_uri": "https://localhost:8080/",
          "height": 80
        },
        "id": "4xOBtd-nfqtE",
        "outputId": "fb8f2760-557f-47a9-da48-a95e449c83bc"
      },
      "execution_count": 57,
      "outputs": [
        {
          "output_type": "execute_result",
          "data": {
            "text/plain": [
              "DecisionTreeClassifier(random_state=42)"
            ],
            "text/html": [
              "<style>#sk-container-id-3 {\n",
              "  /* Definition of color scheme common for light and dark mode */\n",
              "  --sklearn-color-text: black;\n",
              "  --sklearn-color-line: gray;\n",
              "  /* Definition of color scheme for unfitted estimators */\n",
              "  --sklearn-color-unfitted-level-0: #fff5e6;\n",
              "  --sklearn-color-unfitted-level-1: #f6e4d2;\n",
              "  --sklearn-color-unfitted-level-2: #ffe0b3;\n",
              "  --sklearn-color-unfitted-level-3: chocolate;\n",
              "  /* Definition of color scheme for fitted estimators */\n",
              "  --sklearn-color-fitted-level-0: #f0f8ff;\n",
              "  --sklearn-color-fitted-level-1: #d4ebff;\n",
              "  --sklearn-color-fitted-level-2: #b3dbfd;\n",
              "  --sklearn-color-fitted-level-3: cornflowerblue;\n",
              "\n",
              "  /* Specific color for light theme */\n",
              "  --sklearn-color-text-on-default-background: var(--sg-text-color, var(--theme-code-foreground, var(--jp-content-font-color1, black)));\n",
              "  --sklearn-color-background: var(--sg-background-color, var(--theme-background, var(--jp-layout-color0, white)));\n",
              "  --sklearn-color-border-box: var(--sg-text-color, var(--theme-code-foreground, var(--jp-content-font-color1, black)));\n",
              "  --sklearn-color-icon: #696969;\n",
              "\n",
              "  @media (prefers-color-scheme: dark) {\n",
              "    /* Redefinition of color scheme for dark theme */\n",
              "    --sklearn-color-text-on-default-background: var(--sg-text-color, var(--theme-code-foreground, var(--jp-content-font-color1, white)));\n",
              "    --sklearn-color-background: var(--sg-background-color, var(--theme-background, var(--jp-layout-color0, #111)));\n",
              "    --sklearn-color-border-box: var(--sg-text-color, var(--theme-code-foreground, var(--jp-content-font-color1, white)));\n",
              "    --sklearn-color-icon: #878787;\n",
              "  }\n",
              "}\n",
              "\n",
              "#sk-container-id-3 {\n",
              "  color: var(--sklearn-color-text);\n",
              "}\n",
              "\n",
              "#sk-container-id-3 pre {\n",
              "  padding: 0;\n",
              "}\n",
              "\n",
              "#sk-container-id-3 input.sk-hidden--visually {\n",
              "  border: 0;\n",
              "  clip: rect(1px 1px 1px 1px);\n",
              "  clip: rect(1px, 1px, 1px, 1px);\n",
              "  height: 1px;\n",
              "  margin: -1px;\n",
              "  overflow: hidden;\n",
              "  padding: 0;\n",
              "  position: absolute;\n",
              "  width: 1px;\n",
              "}\n",
              "\n",
              "#sk-container-id-3 div.sk-dashed-wrapped {\n",
              "  border: 1px dashed var(--sklearn-color-line);\n",
              "  margin: 0 0.4em 0.5em 0.4em;\n",
              "  box-sizing: border-box;\n",
              "  padding-bottom: 0.4em;\n",
              "  background-color: var(--sklearn-color-background);\n",
              "}\n",
              "\n",
              "#sk-container-id-3 div.sk-container {\n",
              "  /* jupyter's `normalize.less` sets `[hidden] { display: none; }`\n",
              "     but bootstrap.min.css set `[hidden] { display: none !important; }`\n",
              "     so we also need the `!important` here to be able to override the\n",
              "     default hidden behavior on the sphinx rendered scikit-learn.org.\n",
              "     See: https://github.com/scikit-learn/scikit-learn/issues/21755 */\n",
              "  display: inline-block !important;\n",
              "  position: relative;\n",
              "}\n",
              "\n",
              "#sk-container-id-3 div.sk-text-repr-fallback {\n",
              "  display: none;\n",
              "}\n",
              "\n",
              "div.sk-parallel-item,\n",
              "div.sk-serial,\n",
              "div.sk-item {\n",
              "  /* draw centered vertical line to link estimators */\n",
              "  background-image: linear-gradient(var(--sklearn-color-text-on-default-background), var(--sklearn-color-text-on-default-background));\n",
              "  background-size: 2px 100%;\n",
              "  background-repeat: no-repeat;\n",
              "  background-position: center center;\n",
              "}\n",
              "\n",
              "/* Parallel-specific style estimator block */\n",
              "\n",
              "#sk-container-id-3 div.sk-parallel-item::after {\n",
              "  content: \"\";\n",
              "  width: 100%;\n",
              "  border-bottom: 2px solid var(--sklearn-color-text-on-default-background);\n",
              "  flex-grow: 1;\n",
              "}\n",
              "\n",
              "#sk-container-id-3 div.sk-parallel {\n",
              "  display: flex;\n",
              "  align-items: stretch;\n",
              "  justify-content: center;\n",
              "  background-color: var(--sklearn-color-background);\n",
              "  position: relative;\n",
              "}\n",
              "\n",
              "#sk-container-id-3 div.sk-parallel-item {\n",
              "  display: flex;\n",
              "  flex-direction: column;\n",
              "}\n",
              "\n",
              "#sk-container-id-3 div.sk-parallel-item:first-child::after {\n",
              "  align-self: flex-end;\n",
              "  width: 50%;\n",
              "}\n",
              "\n",
              "#sk-container-id-3 div.sk-parallel-item:last-child::after {\n",
              "  align-self: flex-start;\n",
              "  width: 50%;\n",
              "}\n",
              "\n",
              "#sk-container-id-3 div.sk-parallel-item:only-child::after {\n",
              "  width: 0;\n",
              "}\n",
              "\n",
              "/* Serial-specific style estimator block */\n",
              "\n",
              "#sk-container-id-3 div.sk-serial {\n",
              "  display: flex;\n",
              "  flex-direction: column;\n",
              "  align-items: center;\n",
              "  background-color: var(--sklearn-color-background);\n",
              "  padding-right: 1em;\n",
              "  padding-left: 1em;\n",
              "}\n",
              "\n",
              "\n",
              "/* Toggleable style: style used for estimator/Pipeline/ColumnTransformer box that is\n",
              "clickable and can be expanded/collapsed.\n",
              "- Pipeline and ColumnTransformer use this feature and define the default style\n",
              "- Estimators will overwrite some part of the style using the `sk-estimator` class\n",
              "*/\n",
              "\n",
              "/* Pipeline and ColumnTransformer style (default) */\n",
              "\n",
              "#sk-container-id-3 div.sk-toggleable {\n",
              "  /* Default theme specific background. It is overwritten whether we have a\n",
              "  specific estimator or a Pipeline/ColumnTransformer */\n",
              "  background-color: var(--sklearn-color-background);\n",
              "}\n",
              "\n",
              "/* Toggleable label */\n",
              "#sk-container-id-3 label.sk-toggleable__label {\n",
              "  cursor: pointer;\n",
              "  display: block;\n",
              "  width: 100%;\n",
              "  margin-bottom: 0;\n",
              "  padding: 0.5em;\n",
              "  box-sizing: border-box;\n",
              "  text-align: center;\n",
              "}\n",
              "\n",
              "#sk-container-id-3 label.sk-toggleable__label-arrow:before {\n",
              "  /* Arrow on the left of the label */\n",
              "  content: \"▸\";\n",
              "  float: left;\n",
              "  margin-right: 0.25em;\n",
              "  color: var(--sklearn-color-icon);\n",
              "}\n",
              "\n",
              "#sk-container-id-3 label.sk-toggleable__label-arrow:hover:before {\n",
              "  color: var(--sklearn-color-text);\n",
              "}\n",
              "\n",
              "/* Toggleable content - dropdown */\n",
              "\n",
              "#sk-container-id-3 div.sk-toggleable__content {\n",
              "  max-height: 0;\n",
              "  max-width: 0;\n",
              "  overflow: hidden;\n",
              "  text-align: left;\n",
              "  /* unfitted */\n",
              "  background-color: var(--sklearn-color-unfitted-level-0);\n",
              "}\n",
              "\n",
              "#sk-container-id-3 div.sk-toggleable__content.fitted {\n",
              "  /* fitted */\n",
              "  background-color: var(--sklearn-color-fitted-level-0);\n",
              "}\n",
              "\n",
              "#sk-container-id-3 div.sk-toggleable__content pre {\n",
              "  margin: 0.2em;\n",
              "  border-radius: 0.25em;\n",
              "  color: var(--sklearn-color-text);\n",
              "  /* unfitted */\n",
              "  background-color: var(--sklearn-color-unfitted-level-0);\n",
              "}\n",
              "\n",
              "#sk-container-id-3 div.sk-toggleable__content.fitted pre {\n",
              "  /* unfitted */\n",
              "  background-color: var(--sklearn-color-fitted-level-0);\n",
              "}\n",
              "\n",
              "#sk-container-id-3 input.sk-toggleable__control:checked~div.sk-toggleable__content {\n",
              "  /* Expand drop-down */\n",
              "  max-height: 200px;\n",
              "  max-width: 100%;\n",
              "  overflow: auto;\n",
              "}\n",
              "\n",
              "#sk-container-id-3 input.sk-toggleable__control:checked~label.sk-toggleable__label-arrow:before {\n",
              "  content: \"▾\";\n",
              "}\n",
              "\n",
              "/* Pipeline/ColumnTransformer-specific style */\n",
              "\n",
              "#sk-container-id-3 div.sk-label input.sk-toggleable__control:checked~label.sk-toggleable__label {\n",
              "  color: var(--sklearn-color-text);\n",
              "  background-color: var(--sklearn-color-unfitted-level-2);\n",
              "}\n",
              "\n",
              "#sk-container-id-3 div.sk-label.fitted input.sk-toggleable__control:checked~label.sk-toggleable__label {\n",
              "  background-color: var(--sklearn-color-fitted-level-2);\n",
              "}\n",
              "\n",
              "/* Estimator-specific style */\n",
              "\n",
              "/* Colorize estimator box */\n",
              "#sk-container-id-3 div.sk-estimator input.sk-toggleable__control:checked~label.sk-toggleable__label {\n",
              "  /* unfitted */\n",
              "  background-color: var(--sklearn-color-unfitted-level-2);\n",
              "}\n",
              "\n",
              "#sk-container-id-3 div.sk-estimator.fitted input.sk-toggleable__control:checked~label.sk-toggleable__label {\n",
              "  /* fitted */\n",
              "  background-color: var(--sklearn-color-fitted-level-2);\n",
              "}\n",
              "\n",
              "#sk-container-id-3 div.sk-label label.sk-toggleable__label,\n",
              "#sk-container-id-3 div.sk-label label {\n",
              "  /* The background is the default theme color */\n",
              "  color: var(--sklearn-color-text-on-default-background);\n",
              "}\n",
              "\n",
              "/* On hover, darken the color of the background */\n",
              "#sk-container-id-3 div.sk-label:hover label.sk-toggleable__label {\n",
              "  color: var(--sklearn-color-text);\n",
              "  background-color: var(--sklearn-color-unfitted-level-2);\n",
              "}\n",
              "\n",
              "/* Label box, darken color on hover, fitted */\n",
              "#sk-container-id-3 div.sk-label.fitted:hover label.sk-toggleable__label.fitted {\n",
              "  color: var(--sklearn-color-text);\n",
              "  background-color: var(--sklearn-color-fitted-level-2);\n",
              "}\n",
              "\n",
              "/* Estimator label */\n",
              "\n",
              "#sk-container-id-3 div.sk-label label {\n",
              "  font-family: monospace;\n",
              "  font-weight: bold;\n",
              "  display: inline-block;\n",
              "  line-height: 1.2em;\n",
              "}\n",
              "\n",
              "#sk-container-id-3 div.sk-label-container {\n",
              "  text-align: center;\n",
              "}\n",
              "\n",
              "/* Estimator-specific */\n",
              "#sk-container-id-3 div.sk-estimator {\n",
              "  font-family: monospace;\n",
              "  border: 1px dotted var(--sklearn-color-border-box);\n",
              "  border-radius: 0.25em;\n",
              "  box-sizing: border-box;\n",
              "  margin-bottom: 0.5em;\n",
              "  /* unfitted */\n",
              "  background-color: var(--sklearn-color-unfitted-level-0);\n",
              "}\n",
              "\n",
              "#sk-container-id-3 div.sk-estimator.fitted {\n",
              "  /* fitted */\n",
              "  background-color: var(--sklearn-color-fitted-level-0);\n",
              "}\n",
              "\n",
              "/* on hover */\n",
              "#sk-container-id-3 div.sk-estimator:hover {\n",
              "  /* unfitted */\n",
              "  background-color: var(--sklearn-color-unfitted-level-2);\n",
              "}\n",
              "\n",
              "#sk-container-id-3 div.sk-estimator.fitted:hover {\n",
              "  /* fitted */\n",
              "  background-color: var(--sklearn-color-fitted-level-2);\n",
              "}\n",
              "\n",
              "/* Specification for estimator info (e.g. \"i\" and \"?\") */\n",
              "\n",
              "/* Common style for \"i\" and \"?\" */\n",
              "\n",
              ".sk-estimator-doc-link,\n",
              "a:link.sk-estimator-doc-link,\n",
              "a:visited.sk-estimator-doc-link {\n",
              "  float: right;\n",
              "  font-size: smaller;\n",
              "  line-height: 1em;\n",
              "  font-family: monospace;\n",
              "  background-color: var(--sklearn-color-background);\n",
              "  border-radius: 1em;\n",
              "  height: 1em;\n",
              "  width: 1em;\n",
              "  text-decoration: none !important;\n",
              "  margin-left: 1ex;\n",
              "  /* unfitted */\n",
              "  border: var(--sklearn-color-unfitted-level-1) 1pt solid;\n",
              "  color: var(--sklearn-color-unfitted-level-1);\n",
              "}\n",
              "\n",
              ".sk-estimator-doc-link.fitted,\n",
              "a:link.sk-estimator-doc-link.fitted,\n",
              "a:visited.sk-estimator-doc-link.fitted {\n",
              "  /* fitted */\n",
              "  border: var(--sklearn-color-fitted-level-1) 1pt solid;\n",
              "  color: var(--sklearn-color-fitted-level-1);\n",
              "}\n",
              "\n",
              "/* On hover */\n",
              "div.sk-estimator:hover .sk-estimator-doc-link:hover,\n",
              ".sk-estimator-doc-link:hover,\n",
              "div.sk-label-container:hover .sk-estimator-doc-link:hover,\n",
              ".sk-estimator-doc-link:hover {\n",
              "  /* unfitted */\n",
              "  background-color: var(--sklearn-color-unfitted-level-3);\n",
              "  color: var(--sklearn-color-background);\n",
              "  text-decoration: none;\n",
              "}\n",
              "\n",
              "div.sk-estimator.fitted:hover .sk-estimator-doc-link.fitted:hover,\n",
              ".sk-estimator-doc-link.fitted:hover,\n",
              "div.sk-label-container:hover .sk-estimator-doc-link.fitted:hover,\n",
              ".sk-estimator-doc-link.fitted:hover {\n",
              "  /* fitted */\n",
              "  background-color: var(--sklearn-color-fitted-level-3);\n",
              "  color: var(--sklearn-color-background);\n",
              "  text-decoration: none;\n",
              "}\n",
              "\n",
              "/* Span, style for the box shown on hovering the info icon */\n",
              ".sk-estimator-doc-link span {\n",
              "  display: none;\n",
              "  z-index: 9999;\n",
              "  position: relative;\n",
              "  font-weight: normal;\n",
              "  right: .2ex;\n",
              "  padding: .5ex;\n",
              "  margin: .5ex;\n",
              "  width: min-content;\n",
              "  min-width: 20ex;\n",
              "  max-width: 50ex;\n",
              "  color: var(--sklearn-color-text);\n",
              "  box-shadow: 2pt 2pt 4pt #999;\n",
              "  /* unfitted */\n",
              "  background: var(--sklearn-color-unfitted-level-0);\n",
              "  border: .5pt solid var(--sklearn-color-unfitted-level-3);\n",
              "}\n",
              "\n",
              ".sk-estimator-doc-link.fitted span {\n",
              "  /* fitted */\n",
              "  background: var(--sklearn-color-fitted-level-0);\n",
              "  border: var(--sklearn-color-fitted-level-3);\n",
              "}\n",
              "\n",
              ".sk-estimator-doc-link:hover span {\n",
              "  display: block;\n",
              "}\n",
              "\n",
              "/* \"?\"-specific style due to the `<a>` HTML tag */\n",
              "\n",
              "#sk-container-id-3 a.estimator_doc_link {\n",
              "  float: right;\n",
              "  font-size: 1rem;\n",
              "  line-height: 1em;\n",
              "  font-family: monospace;\n",
              "  background-color: var(--sklearn-color-background);\n",
              "  border-radius: 1rem;\n",
              "  height: 1rem;\n",
              "  width: 1rem;\n",
              "  text-decoration: none;\n",
              "  /* unfitted */\n",
              "  color: var(--sklearn-color-unfitted-level-1);\n",
              "  border: var(--sklearn-color-unfitted-level-1) 1pt solid;\n",
              "}\n",
              "\n",
              "#sk-container-id-3 a.estimator_doc_link.fitted {\n",
              "  /* fitted */\n",
              "  border: var(--sklearn-color-fitted-level-1) 1pt solid;\n",
              "  color: var(--sklearn-color-fitted-level-1);\n",
              "}\n",
              "\n",
              "/* On hover */\n",
              "#sk-container-id-3 a.estimator_doc_link:hover {\n",
              "  /* unfitted */\n",
              "  background-color: var(--sklearn-color-unfitted-level-3);\n",
              "  color: var(--sklearn-color-background);\n",
              "  text-decoration: none;\n",
              "}\n",
              "\n",
              "#sk-container-id-3 a.estimator_doc_link.fitted:hover {\n",
              "  /* fitted */\n",
              "  background-color: var(--sklearn-color-fitted-level-3);\n",
              "}\n",
              "</style><div id=\"sk-container-id-3\" class=\"sk-top-container\"><div class=\"sk-text-repr-fallback\"><pre>DecisionTreeClassifier(random_state=42)</pre><b>In a Jupyter environment, please rerun this cell to show the HTML representation or trust the notebook. <br />On GitHub, the HTML representation is unable to render, please try loading this page with nbviewer.org.</b></div><div class=\"sk-container\" hidden><div class=\"sk-item\"><div class=\"sk-estimator fitted sk-toggleable\"><input class=\"sk-toggleable__control sk-hidden--visually\" id=\"sk-estimator-id-3\" type=\"checkbox\" checked><label for=\"sk-estimator-id-3\" class=\"sk-toggleable__label fitted sk-toggleable__label-arrow fitted\">&nbsp;&nbsp;DecisionTreeClassifier<a class=\"sk-estimator-doc-link fitted\" rel=\"noreferrer\" target=\"_blank\" href=\"https://scikit-learn.org/1.5/modules/generated/sklearn.tree.DecisionTreeClassifier.html\">?<span>Documentation for DecisionTreeClassifier</span></a><span class=\"sk-estimator-doc-link fitted\">i<span>Fitted</span></span></label><div class=\"sk-toggleable__content fitted\"><pre>DecisionTreeClassifier(random_state=42)</pre></div> </div></div></div></div>"
            ]
          },
          "metadata": {},
          "execution_count": 57
        }
      ]
    },
    {
      "cell_type": "code",
      "source": [
        "#Make predictions\n",
        "y_pred = clf.predict(X_test)\n",
        "y_pred"
      ],
      "metadata": {
        "colab": {
          "base_uri": "https://localhost:8080/"
        },
        "id": "YT3u4jP-ftzS",
        "outputId": "78d18bd9-a5b9-43cd-f126-39337e2a6554"
      },
      "execution_count": 58,
      "outputs": [
        {
          "output_type": "execute_result",
          "data": {
            "text/plain": [
              "array([1, 0, 0, 0, 0, 0, 0, 0, 0, 0, 0, 0, 0, 0, 0, 0, 0, 0, 0, 0, 1, 0,\n",
              "       0, 0, 0, 0, 1, 0, 0, 0, 0, 0, 0, 0, 0, 0, 0, 0, 1, 0, 0, 0, 0, 0,\n",
              "       0], dtype=int32)"
            ]
          },
          "metadata": {},
          "execution_count": 58
        }
      ]
    },
    {
      "cell_type": "code",
      "source": [
        "#Evaluate the model\n",
        "accuracy = accuracy_score(y_test, y_pred)\n",
        "print(f\"Accuracy: {accuracy * 100:.2f}%\")\n",
        "\n",
        "# Detailed classification report\n",
        "print(classification_report(y_test, y_pred))"
      ],
      "metadata": {
        "colab": {
          "base_uri": "https://localhost:8080/"
        },
        "id": "9zQxXArNfwkH",
        "outputId": "23c9d2d3-75f4-4240-87cc-896bacfcb1d8"
      },
      "execution_count": 59,
      "outputs": [
        {
          "output_type": "stream",
          "name": "stdout",
          "text": [
            "Accuracy: 84.44%\n",
            "              precision    recall  f1-score   support\n",
            "\n",
            "           0       0.90      0.93      0.91        40\n",
            "           1       0.25      0.20      0.22         5\n",
            "\n",
            "    accuracy                           0.84        45\n",
            "   macro avg       0.58      0.56      0.57        45\n",
            "weighted avg       0.83      0.84      0.84        45\n",
            "\n"
          ]
        }
      ]
    },
    {
      "cell_type": "code",
      "source": [
        "#Function to make predictions based on user input\n",
        "def predict_country_status(model, input_data):\n",
        "    \"\"\"\n",
        "    Function to predict whether a country is developed or developing based on user input.\n",
        "\n",
        "    Args:\n",
        "    - model: Trained decision tree model.\n",
        "    - input_data: List of user-provided values matching the order of training features.\n",
        "\n",
        "    Returns:\n",
        "    - str: 'Developed' or 'Developing' based on the model's prediction.\n",
        "    \"\"\"\n",
        "    # Convert input list to a DataFrame\n",
        "    input_df = pd.DataFrame([input_data], columns=X_train.columns)\n",
        "\n",
        "    # Make prediction\n",
        "    prediction = model.predict(input_df)\n",
        "\n",
        "    return 'Developed' if prediction[0] == 1 else 'Developing'\n",
        "\n",
        "# Example: Ask for user input\n",
        "input_data = {\n",
        "    'Density\\n(P/Km2)': 500,\n",
        "    'Agricultural Land(%)': 40,\n",
        "    'Land Area(Km2)': 100000,\n",
        "    'Armed Forces size': 100000,\n",
        "    'Birth Rate': 10,\n",
        "    'Calling Code': '+1',\n",
        "    'Co2-Emissions': 5,\n",
        "    'CPI': 2.5,\n",
        "    'CPI Change (%)': 1.0,\n",
        "    'Fertility Rate': 1.5,\n",
        "    'Forested Area (%)': 30,\n",
        "    'Gasoline Price': 3.5,\n",
        "    'Gross primary education enrollment (%)': 98,\n",
        "    'Gross tertiary education enrollment (%)': 60,\n",
        "    'Infant mortality': 5,\n",
        "    'Life expectancy': 80,\n",
        "    'Maternal mortality ratio': 10,\n",
        "    'Minimum wage': '1000',  # Assume this was categorical and encoded\n",
        "    'Out of pocket health expenditure': 20,\n",
        "    'Physicians per thousand': 3,\n",
        "    'Population': 5000,\n",
        "    'Population: Labor force participation (%)': 60,\n",
        "    'Tax revenue (%)': 20,\n",
        "    'Total tax rate': 30,\n",
        "    'Unemployment rate': 5,\n",
        "    'Urban_population': 80\n",
        "}\n",
        "\n",
        "# Call the function to make the prediction\n",
        "prediction = predict_country_status(clf, input_data)\n",
        "print(f\"The predicted status of the country is: {prediction}\")\n"
      ],
      "metadata": {
        "colab": {
          "base_uri": "https://localhost:8080/"
        },
        "id": "X1msQIDAhVa-",
        "outputId": "99e171c2-0b87-42eb-a050-08997fa91f8e"
      },
      "execution_count": 60,
      "outputs": [
        {
          "output_type": "stream",
          "name": "stdout",
          "text": [
            "The predicted status of the country is: Developing\n"
          ]
        }
      ]
    },
    {
      "cell_type": "code",
      "source": [
        "input_data1 = {\n",
        "    'Density\\n(P/Km2)': 500,                 # Slightly higher density\n",
        "    'Agricultural Land(%)': 43.099998,              # Lower agricultural land\n",
        "    'Land Area(Km2)': 50,                # Slightly lower land area\n",
        "    'Armed Forces size': 80,             # Reduced military size\n",
        "    'Birth Rate': 11.78,                        # Low birth rate\n",
        "    'Co2-Emissions': 56,                     # Adjusted emissions\n",
        "    'CPI': 36,                              # Slightly higher inflation\n",
        "    'Fertility Rate': 1.6200000047683716,                   # Low fertility rate\n",
        "    'Life expectancy': 83,                   # Slightly higher life expectancy\n",
        "    'Unemployment rate': 11.12\t,                  # Reduced unemployment\n",
        "    'Urban_population': 9797273.0                   # Increased urban population\n",
        "}\n",
        "prediction = predict_country_status(clf, input_data1)\n",
        "print(f\"The predicted status of the country is: {prediction}\")"
      ],
      "metadata": {
        "colab": {
          "base_uri": "https://localhost:8080/"
        },
        "id": "V7zKlApkh8Wq",
        "outputId": "a780031d-6d17-4f43-eb6a-8230368599df"
      },
      "execution_count": 61,
      "outputs": [
        {
          "output_type": "stream",
          "name": "stdout",
          "text": [
            "The predicted status of the country is: Developed\n"
          ]
        }
      ]
    },
    {
      "cell_type": "code",
      "source": [
        "from sklearn import tree\n",
        "import matplotlib.pyplot as plt\n",
        "\n",
        "#Visualize the Decision Tree\n",
        "\n",
        "# Plot the decision tree using the plot_tree function\n",
        "tree.plot_tree(clf,\n",
        "               feature_names=X.columns, # Use feature names for better readability\n",
        "               class_names=['Developing', 'Developed'], # Label for target classes\n",
        "               filled=True, # Fill the tree nodes with colors based on class\n",
        "               rounded=True, # Rounded corners for nodes\n",
        "               fontsize=6) # Control the font size for readability\n",
        "\n",
        "plt.title(\"Decision Tree for Classifying Countries as Developed/Developing\")\n",
        "plt.show()\n"
      ],
      "metadata": {
        "colab": {
          "base_uri": "https://localhost:8080/",
          "height": 428
        },
        "id": "dZ2D4NJMqVyW",
        "outputId": "0f033892-c193-4758-9b18-154cb1fda39e"
      },
      "execution_count": 62,
      "outputs": [
        {
          "output_type": "display_data",
          "data": {
            "text/plain": [
              "<Figure size 640x480 with 1 Axes>"
            ],
            "image/png": "[encoded data removed]"
          },
          "metadata": {}
        }
      ]
    },
    {
      "cell_type": "markdown",
      "source": [
        "**Why we selected Decision tree and not other approach**\n",
        "\n",
        "Decision trees can handle both numerical (e.g., GDP per capita, infant mortality rate) and categorical data (e.g., education levels), making them versatile for this type of data\n",
        "\n",
        "Decision trees are well-suited for problems where relationships between features and outcomes are non-linear, meaning the model can capture complex patterns in the data that linear models might miss.\n",
        "\n",
        "The goal is to classify countries into one of two classes: developed or developing, which fits perfectly into the binary classification that decision trees handle well.\n",
        "\n",
        "Logistic Regression: Works well if the relationship between the predictors and the target is linear, but it may struggle with complex relationships.\n"
      ],
      "metadata": {
        "id": "7N6Xv4dsqrGj"
      }
    }
  ]
}